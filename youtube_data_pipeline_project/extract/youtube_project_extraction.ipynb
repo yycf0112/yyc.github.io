{
  "cells": [
    {
      "cell_type": "code",
      "execution_count": null,
      "id": "f01c59f5-a94f-4a64-9343-dd4fae9c1f32",
      "metadata": {
        "id": "f01c59f5-a94f-4a64-9343-dd4fae9c1f32",
        "outputId": "ee0d4a8c-68ba-4509-fc1a-3bef913909dd",
        "colab": {
          "base_uri": "https://localhost:8080/"
        }
      },
      "outputs": [
        {
          "output_type": "stream",
          "name": "stdout",
          "text": [
            "Requirement already satisfied: google-api-python-client in /usr/local/lib/python3.11/dist-packages (2.171.0)\n",
            "Requirement already satisfied: httplib2<1.0.0,>=0.19.0 in /usr/local/lib/python3.11/dist-packages (from google-api-python-client) (0.22.0)\n",
            "Requirement already satisfied: google-auth!=2.24.0,!=2.25.0,<3.0.0,>=1.32.0 in /usr/local/lib/python3.11/dist-packages (from google-api-python-client) (2.38.0)\n",
            "Requirement already satisfied: google-auth-httplib2<1.0.0,>=0.2.0 in /usr/local/lib/python3.11/dist-packages (from google-api-python-client) (0.2.0)\n",
            "Requirement already satisfied: google-api-core!=2.0.*,!=2.1.*,!=2.2.*,!=2.3.0,<3.0.0,>=1.31.5 in /usr/local/lib/python3.11/dist-packages (from google-api-python-client) (2.25.0)\n",
            "Requirement already satisfied: uritemplate<5,>=3.0.1 in /usr/local/lib/python3.11/dist-packages (from google-api-python-client) (4.2.0)\n",
            "Requirement already satisfied: googleapis-common-protos<2.0.0,>=1.56.2 in /usr/local/lib/python3.11/dist-packages (from google-api-core!=2.0.*,!=2.1.*,!=2.2.*,!=2.3.0,<3.0.0,>=1.31.5->google-api-python-client) (1.70.0)\n",
            "Requirement already satisfied: protobuf!=3.20.0,!=3.20.1,!=4.21.0,!=4.21.1,!=4.21.2,!=4.21.3,!=4.21.4,!=4.21.5,<7.0.0,>=3.19.5 in /usr/local/lib/python3.11/dist-packages (from google-api-core!=2.0.*,!=2.1.*,!=2.2.*,!=2.3.0,<3.0.0,>=1.31.5->google-api-python-client) (5.29.5)\n",
            "Requirement already satisfied: proto-plus<2.0.0,>=1.22.3 in /usr/local/lib/python3.11/dist-packages (from google-api-core!=2.0.*,!=2.1.*,!=2.2.*,!=2.3.0,<3.0.0,>=1.31.5->google-api-python-client) (1.26.1)\n",
            "Requirement already satisfied: requests<3.0.0,>=2.18.0 in /usr/local/lib/python3.11/dist-packages (from google-api-core!=2.0.*,!=2.1.*,!=2.2.*,!=2.3.0,<3.0.0,>=1.31.5->google-api-python-client) (2.32.3)\n",
            "Requirement already satisfied: cachetools<6.0,>=2.0.0 in /usr/local/lib/python3.11/dist-packages (from google-auth!=2.24.0,!=2.25.0,<3.0.0,>=1.32.0->google-api-python-client) (5.5.2)\n",
            "Requirement already satisfied: pyasn1-modules>=0.2.1 in /usr/local/lib/python3.11/dist-packages (from google-auth!=2.24.0,!=2.25.0,<3.0.0,>=1.32.0->google-api-python-client) (0.4.2)\n",
            "Requirement already satisfied: rsa<5,>=3.1.4 in /usr/local/lib/python3.11/dist-packages (from google-auth!=2.24.0,!=2.25.0,<3.0.0,>=1.32.0->google-api-python-client) (4.9.1)\n",
            "Requirement already satisfied: pyparsing!=3.0.0,!=3.0.1,!=3.0.2,!=3.0.3,<4,>=2.4.2 in /usr/local/lib/python3.11/dist-packages (from httplib2<1.0.0,>=0.19.0->google-api-python-client) (3.2.3)\n",
            "Requirement already satisfied: pyasn1<0.7.0,>=0.6.1 in /usr/local/lib/python3.11/dist-packages (from pyasn1-modules>=0.2.1->google-auth!=2.24.0,!=2.25.0,<3.0.0,>=1.32.0->google-api-python-client) (0.6.1)\n",
            "Requirement already satisfied: charset-normalizer<4,>=2 in /usr/local/lib/python3.11/dist-packages (from requests<3.0.0,>=2.18.0->google-api-core!=2.0.*,!=2.1.*,!=2.2.*,!=2.3.0,<3.0.0,>=1.31.5->google-api-python-client) (3.4.2)\n",
            "Requirement already satisfied: idna<4,>=2.5 in /usr/local/lib/python3.11/dist-packages (from requests<3.0.0,>=2.18.0->google-api-core!=2.0.*,!=2.1.*,!=2.2.*,!=2.3.0,<3.0.0,>=1.31.5->google-api-python-client) (3.10)\n",
            "Requirement already satisfied: urllib3<3,>=1.21.1 in /usr/local/lib/python3.11/dist-packages (from requests<3.0.0,>=2.18.0->google-api-core!=2.0.*,!=2.1.*,!=2.2.*,!=2.3.0,<3.0.0,>=1.31.5->google-api-python-client) (2.4.0)\n",
            "Requirement already satisfied: certifi>=2017.4.17 in /usr/local/lib/python3.11/dist-packages (from requests<3.0.0,>=2.18.0->google-api-core!=2.0.*,!=2.1.*,!=2.2.*,!=2.3.0,<3.0.0,>=1.31.5->google-api-python-client) (2025.4.26)\n"
          ]
        }
      ],
      "source": [
        "!pip install google-api-python-client\n",
        "from googleapiclient.discovery import build\n",
        "import pandas as pd\n",
        "import seaborn as sns"
      ]
    },
    {
      "cell_type": "code",
      "execution_count": null,
      "id": "254e589b-646a-407f-8eb4-36556f4e400d",
      "metadata": {
        "id": "254e589b-646a-407f-8eb4-36556f4e400d"
      },
      "outputs": [],
      "source": [
        "api_key = 'API_KEY'\n",
        "#channel_id = 'UCnz-ZXXER4jOvuED5trXfEA'\n",
        "channel_ids = ['UCnz-ZXXER4jOvuED5trXfEA', # techTFQ\n",
        "               'UCLLw7jmFsvfIVaUFsLs8mlQ', # Luke Barousse\n",
        "               'UCiT9RITQ9PW6BhXK0y2jaeg', # Ken Jee\n",
        "               'UC7cs8q-gJRlGwj4A80mCmXg', # Alex the analyst\n",
        "               'UC2UXDak6o7rBm23k3Vv5dww'  # Tina Huang\n",
        "                ]\n",
        "\n",
        "youtube = build('youtube', 'v3', developerKey=api_key)"
      ]
    },
    {
      "cell_type": "markdown",
      "id": "8443f36f-de8b-4e6e-80e9-3200459e7e8e",
      "metadata": {
        "id": "8443f36f-de8b-4e6e-80e9-3200459e7e8e"
      },
      "source": [
        "## Function to get channel statistics"
      ]
    },
    {
      "cell_type": "code",
      "execution_count": null,
      "id": "e06c7b04-f3b4-4387-b705-bfbd238d4cfc",
      "metadata": {
        "id": "e06c7b04-f3b4-4387-b705-bfbd238d4cfc"
      },
      "outputs": [],
      "source": [
        "def get_channel_stats(youtube, channel_ids):\n",
        "    all_data = []\n",
        "    request = youtube.channels().list(\n",
        "                part='snippet,contentDetails,statistics',\n",
        "                id=','.join(channel_ids))\n",
        "    response = request.execute()\n",
        "\n",
        "    for i in range(len(response['items'])):\n",
        "        data = dict(Channel_name = response['items'][i]['snippet']['title'],\n",
        "                Subscribers = response['items'][i]['statistics']['subscriberCount'],\n",
        "                Views = response['items'][i]['statistics']['viewCount'],\n",
        "                Total_videos = response['items'][i]['statistics']['videoCount'],\n",
        "                playlist_id = response['items'][i]['contentDetails']['relatedPlaylists']['uploads']\n",
        "                   )\n",
        "        all_data.append(data)\n",
        "\n",
        "    return all_data"
      ]
    },
    {
      "cell_type": "code",
      "execution_count": null,
      "id": "5b4bb711-2736-46fb-be34-f84c5a17b0d0",
      "metadata": {
        "id": "5b4bb711-2736-46fb-be34-f84c5a17b0d0"
      },
      "outputs": [],
      "source": [
        "channel_statistics = get_channel_stats(youtube, channel_ids)"
      ]
    },
    {
      "cell_type": "code",
      "execution_count": null,
      "id": "da751d86-b081-48ce-96d4-fe7a85d6ee1e",
      "metadata": {
        "id": "da751d86-b081-48ce-96d4-fe7a85d6ee1e"
      },
      "outputs": [],
      "source": [
        "channel_data = pd.DataFrame(channel_statistics)"
      ]
    },
    {
      "cell_type": "code",
      "execution_count": null,
      "id": "26e087c6-dc10-4db2-b913-82258101b365",
      "metadata": {
        "id": "26e087c6-dc10-4db2-b913-82258101b365",
        "outputId": "5049eadc-1550-42e7-d0f9-c7f592285aff",
        "colab": {
          "base_uri": "https://localhost:8080/",
          "height": 195
        }
      },
      "outputs": [
        {
          "output_type": "execute_result",
          "data": {
            "text/plain": [
              "    Channel_name Subscribers     Views Total_videos               playlist_id\n",
              "0        Ken Jee      271000   9438550          288  UUiT9RITQ9PW6BhXK0y2jaeg\n",
              "1     Tina Huang      892000  39372005          255  UU2UXDak6o7rBm23k3Vv5dww\n",
              "2  Luke Barousse      530000  26444690          165  UULLw7jmFsvfIVaUFsLs8mlQ\n",
              "3        techTFQ      371000  21448499          140  UUnz-ZXXER4jOvuED5trXfEA"
            ],
            "text/html": [
              "\n",
              "  <div id=\"df-28a2aeb3-6dd6-4f3b-b9c9-5ae047fac368\" class=\"colab-df-container\">\n",
              "    <div>\n",
              "<style scoped>\n",
              "    .dataframe tbody tr th:only-of-type {\n",
              "        vertical-align: middle;\n",
              "    }\n",
              "\n",
              "    .dataframe tbody tr th {\n",
              "        vertical-align: top;\n",
              "    }\n",
              "\n",
              "    .dataframe thead th {\n",
              "        text-align: right;\n",
              "    }\n",
              "</style>\n",
              "<table border=\"1\" class=\"dataframe\">\n",
              "  <thead>\n",
              "    <tr style=\"text-align: right;\">\n",
              "      <th></th>\n",
              "      <th>Channel_name</th>\n",
              "      <th>Subscribers</th>\n",
              "      <th>Views</th>\n",
              "      <th>Total_videos</th>\n",
              "      <th>playlist_id</th>\n",
              "    </tr>\n",
              "  </thead>\n",
              "  <tbody>\n",
              "    <tr>\n",
              "      <th>0</th>\n",
              "      <td>Ken Jee</td>\n",
              "      <td>271000</td>\n",
              "      <td>9438550</td>\n",
              "      <td>288</td>\n",
              "      <td>UUiT9RITQ9PW6BhXK0y2jaeg</td>\n",
              "    </tr>\n",
              "    <tr>\n",
              "      <th>1</th>\n",
              "      <td>Tina Huang</td>\n",
              "      <td>892000</td>\n",
              "      <td>39372005</td>\n",
              "      <td>255</td>\n",
              "      <td>UU2UXDak6o7rBm23k3Vv5dww</td>\n",
              "    </tr>\n",
              "    <tr>\n",
              "      <th>2</th>\n",
              "      <td>Luke Barousse</td>\n",
              "      <td>530000</td>\n",
              "      <td>26444690</td>\n",
              "      <td>165</td>\n",
              "      <td>UULLw7jmFsvfIVaUFsLs8mlQ</td>\n",
              "    </tr>\n",
              "    <tr>\n",
              "      <th>3</th>\n",
              "      <td>techTFQ</td>\n",
              "      <td>371000</td>\n",
              "      <td>21448499</td>\n",
              "      <td>140</td>\n",
              "      <td>UUnz-ZXXER4jOvuED5trXfEA</td>\n",
              "    </tr>\n",
              "  </tbody>\n",
              "</table>\n",
              "</div>\n",
              "    <div class=\"colab-df-buttons\">\n",
              "\n",
              "  <div class=\"colab-df-container\">\n",
              "    <button class=\"colab-df-convert\" onclick=\"convertToInteractive('df-28a2aeb3-6dd6-4f3b-b9c9-5ae047fac368')\"\n",
              "            title=\"Convert this dataframe to an interactive table.\"\n",
              "            style=\"display:none;\">\n",
              "\n",
              "  <svg xmlns=\"http://www.w3.org/2000/svg\" height=\"24px\" viewBox=\"0 -960 960 960\">\n",
              "    <path d=\"M120-120v-720h720v720H120Zm60-500h600v-160H180v160Zm220 220h160v-160H400v160Zm0 220h160v-160H400v160ZM180-400h160v-160H180v160Zm440 0h160v-160H620v160ZM180-180h160v-160H180v160Zm440 0h160v-160H620v160Z\"/>\n",
              "  </svg>\n",
              "    </button>\n",
              "\n",
              "  <style>\n",
              "    .colab-df-container {\n",
              "      display:flex;\n",
              "      gap: 12px;\n",
              "    }\n",
              "\n",
              "    .colab-df-convert {\n",
              "      background-color: #E8F0FE;\n",
              "      border: none;\n",
              "      border-radius: 50%;\n",
              "      cursor: pointer;\n",
              "      display: none;\n",
              "      fill: #1967D2;\n",
              "      height: 32px;\n",
              "      padding: 0 0 0 0;\n",
              "      width: 32px;\n",
              "    }\n",
              "\n",
              "    .colab-df-convert:hover {\n",
              "      background-color: #E2EBFA;\n",
              "      box-shadow: 0px 1px 2px rgba(60, 64, 67, 0.3), 0px 1px 3px 1px rgba(60, 64, 67, 0.15);\n",
              "      fill: #174EA6;\n",
              "    }\n",
              "\n",
              "    .colab-df-buttons div {\n",
              "      margin-bottom: 4px;\n",
              "    }\n",
              "\n",
              "    [theme=dark] .colab-df-convert {\n",
              "      background-color: #3B4455;\n",
              "      fill: #D2E3FC;\n",
              "    }\n",
              "\n",
              "    [theme=dark] .colab-df-convert:hover {\n",
              "      background-color: #434B5C;\n",
              "      box-shadow: 0px 1px 3px 1px rgba(0, 0, 0, 0.15);\n",
              "      filter: drop-shadow(0px 1px 2px rgba(0, 0, 0, 0.3));\n",
              "      fill: #FFFFFF;\n",
              "    }\n",
              "  </style>\n",
              "\n",
              "    <script>\n",
              "      const buttonEl =\n",
              "        document.querySelector('#df-28a2aeb3-6dd6-4f3b-b9c9-5ae047fac368 button.colab-df-convert');\n",
              "      buttonEl.style.display =\n",
              "        google.colab.kernel.accessAllowed ? 'block' : 'none';\n",
              "\n",
              "      async function convertToInteractive(key) {\n",
              "        const element = document.querySelector('#df-28a2aeb3-6dd6-4f3b-b9c9-5ae047fac368');\n",
              "        const dataTable =\n",
              "          await google.colab.kernel.invokeFunction('convertToInteractive',\n",
              "                                                    [key], {});\n",
              "        if (!dataTable) return;\n",
              "\n",
              "        const docLinkHtml = 'Like what you see? Visit the ' +\n",
              "          '<a target=\"_blank\" href=https://colab.research.google.com/notebooks/data_table.ipynb>data table notebook</a>'\n",
              "          + ' to learn more about interactive tables.';\n",
              "        element.innerHTML = '';\n",
              "        dataTable['output_type'] = 'display_data';\n",
              "        await google.colab.output.renderOutput(dataTable, element);\n",
              "        const docLink = document.createElement('div');\n",
              "        docLink.innerHTML = docLinkHtml;\n",
              "        element.appendChild(docLink);\n",
              "      }\n",
              "    </script>\n",
              "  </div>\n",
              "\n",
              "\n",
              "    <div id=\"df-6a0a9e91-28a2-4692-bf80-555f4a9f7677\">\n",
              "      <button class=\"colab-df-quickchart\" onclick=\"quickchart('df-6a0a9e91-28a2-4692-bf80-555f4a9f7677')\"\n",
              "                title=\"Suggest charts\"\n",
              "                style=\"display:none;\">\n",
              "\n",
              "<svg xmlns=\"http://www.w3.org/2000/svg\" height=\"24px\"viewBox=\"0 0 24 24\"\n",
              "     width=\"24px\">\n",
              "    <g>\n",
              "        <path d=\"M19 3H5c-1.1 0-2 .9-2 2v14c0 1.1.9 2 2 2h14c1.1 0 2-.9 2-2V5c0-1.1-.9-2-2-2zM9 17H7v-7h2v7zm4 0h-2V7h2v10zm4 0h-2v-4h2v4z\"/>\n",
              "    </g>\n",
              "</svg>\n",
              "      </button>\n",
              "\n",
              "<style>\n",
              "  .colab-df-quickchart {\n",
              "      --bg-color: #E8F0FE;\n",
              "      --fill-color: #1967D2;\n",
              "      --hover-bg-color: #E2EBFA;\n",
              "      --hover-fill-color: #174EA6;\n",
              "      --disabled-fill-color: #AAA;\n",
              "      --disabled-bg-color: #DDD;\n",
              "  }\n",
              "\n",
              "  [theme=dark] .colab-df-quickchart {\n",
              "      --bg-color: #3B4455;\n",
              "      --fill-color: #D2E3FC;\n",
              "      --hover-bg-color: #434B5C;\n",
              "      --hover-fill-color: #FFFFFF;\n",
              "      --disabled-bg-color: #3B4455;\n",
              "      --disabled-fill-color: #666;\n",
              "  }\n",
              "\n",
              "  .colab-df-quickchart {\n",
              "    background-color: var(--bg-color);\n",
              "    border: none;\n",
              "    border-radius: 50%;\n",
              "    cursor: pointer;\n",
              "    display: none;\n",
              "    fill: var(--fill-color);\n",
              "    height: 32px;\n",
              "    padding: 0;\n",
              "    width: 32px;\n",
              "  }\n",
              "\n",
              "  .colab-df-quickchart:hover {\n",
              "    background-color: var(--hover-bg-color);\n",
              "    box-shadow: 0 1px 2px rgba(60, 64, 67, 0.3), 0 1px 3px 1px rgba(60, 64, 67, 0.15);\n",
              "    fill: var(--button-hover-fill-color);\n",
              "  }\n",
              "\n",
              "  .colab-df-quickchart-complete:disabled,\n",
              "  .colab-df-quickchart-complete:disabled:hover {\n",
              "    background-color: var(--disabled-bg-color);\n",
              "    fill: var(--disabled-fill-color);\n",
              "    box-shadow: none;\n",
              "  }\n",
              "\n",
              "  .colab-df-spinner {\n",
              "    border: 2px solid var(--fill-color);\n",
              "    border-color: transparent;\n",
              "    border-bottom-color: var(--fill-color);\n",
              "    animation:\n",
              "      spin 1s steps(1) infinite;\n",
              "  }\n",
              "\n",
              "  @keyframes spin {\n",
              "    0% {\n",
              "      border-color: transparent;\n",
              "      border-bottom-color: var(--fill-color);\n",
              "      border-left-color: var(--fill-color);\n",
              "    }\n",
              "    20% {\n",
              "      border-color: transparent;\n",
              "      border-left-color: var(--fill-color);\n",
              "      border-top-color: var(--fill-color);\n",
              "    }\n",
              "    30% {\n",
              "      border-color: transparent;\n",
              "      border-left-color: var(--fill-color);\n",
              "      border-top-color: var(--fill-color);\n",
              "      border-right-color: var(--fill-color);\n",
              "    }\n",
              "    40% {\n",
              "      border-color: transparent;\n",
              "      border-right-color: var(--fill-color);\n",
              "      border-top-color: var(--fill-color);\n",
              "    }\n",
              "    60% {\n",
              "      border-color: transparent;\n",
              "      border-right-color: var(--fill-color);\n",
              "    }\n",
              "    80% {\n",
              "      border-color: transparent;\n",
              "      border-right-color: var(--fill-color);\n",
              "      border-bottom-color: var(--fill-color);\n",
              "    }\n",
              "    90% {\n",
              "      border-color: transparent;\n",
              "      border-bottom-color: var(--fill-color);\n",
              "    }\n",
              "  }\n",
              "</style>\n",
              "\n",
              "      <script>\n",
              "        async function quickchart(key) {\n",
              "          const quickchartButtonEl =\n",
              "            document.querySelector('#' + key + ' button');\n",
              "          quickchartButtonEl.disabled = true;  // To prevent multiple clicks.\n",
              "          quickchartButtonEl.classList.add('colab-df-spinner');\n",
              "          try {\n",
              "            const charts = await google.colab.kernel.invokeFunction(\n",
              "                'suggestCharts', [key], {});\n",
              "          } catch (error) {\n",
              "            console.error('Error during call to suggestCharts:', error);\n",
              "          }\n",
              "          quickchartButtonEl.classList.remove('colab-df-spinner');\n",
              "          quickchartButtonEl.classList.add('colab-df-quickchart-complete');\n",
              "        }\n",
              "        (() => {\n",
              "          let quickchartButtonEl =\n",
              "            document.querySelector('#df-6a0a9e91-28a2-4692-bf80-555f4a9f7677 button');\n",
              "          quickchartButtonEl.style.display =\n",
              "            google.colab.kernel.accessAllowed ? 'block' : 'none';\n",
              "        })();\n",
              "      </script>\n",
              "    </div>\n",
              "\n",
              "  <div id=\"id_ffcc72f6-895d-4732-b077-987a3ca3b344\">\n",
              "    <style>\n",
              "      .colab-df-generate {\n",
              "        background-color: #E8F0FE;\n",
              "        border: none;\n",
              "        border-radius: 50%;\n",
              "        cursor: pointer;\n",
              "        display: none;\n",
              "        fill: #1967D2;\n",
              "        height: 32px;\n",
              "        padding: 0 0 0 0;\n",
              "        width: 32px;\n",
              "      }\n",
              "\n",
              "      .colab-df-generate:hover {\n",
              "        background-color: #E2EBFA;\n",
              "        box-shadow: 0px 1px 2px rgba(60, 64, 67, 0.3), 0px 1px 3px 1px rgba(60, 64, 67, 0.15);\n",
              "        fill: #174EA6;\n",
              "      }\n",
              "\n",
              "      [theme=dark] .colab-df-generate {\n",
              "        background-color: #3B4455;\n",
              "        fill: #D2E3FC;\n",
              "      }\n",
              "\n",
              "      [theme=dark] .colab-df-generate:hover {\n",
              "        background-color: #434B5C;\n",
              "        box-shadow: 0px 1px 3px 1px rgba(0, 0, 0, 0.15);\n",
              "        filter: drop-shadow(0px 1px 2px rgba(0, 0, 0, 0.3));\n",
              "        fill: #FFFFFF;\n",
              "      }\n",
              "    </style>\n",
              "    <button class=\"colab-df-generate\" onclick=\"generateWithVariable('channel_data')\"\n",
              "            title=\"Generate code using this dataframe.\"\n",
              "            style=\"display:none;\">\n",
              "\n",
              "  <svg xmlns=\"http://www.w3.org/2000/svg\" height=\"24px\"viewBox=\"0 0 24 24\"\n",
              "       width=\"24px\">\n",
              "    <path d=\"M7,19H8.4L18.45,9,17,7.55,7,17.6ZM5,21V16.75L18.45,3.32a2,2,0,0,1,2.83,0l1.4,1.43a1.91,1.91,0,0,1,.58,1.4,1.91,1.91,0,0,1-.58,1.4L9.25,21ZM18.45,9,17,7.55Zm-12,3A5.31,5.31,0,0,0,4.9,8.1,5.31,5.31,0,0,0,1,6.5,5.31,5.31,0,0,0,4.9,4.9,5.31,5.31,0,0,0,6.5,1,5.31,5.31,0,0,0,8.1,4.9,5.31,5.31,0,0,0,12,6.5,5.46,5.46,0,0,0,6.5,12Z\"/>\n",
              "  </svg>\n",
              "    </button>\n",
              "    <script>\n",
              "      (() => {\n",
              "      const buttonEl =\n",
              "        document.querySelector('#id_ffcc72f6-895d-4732-b077-987a3ca3b344 button.colab-df-generate');\n",
              "      buttonEl.style.display =\n",
              "        google.colab.kernel.accessAllowed ? 'block' : 'none';\n",
              "\n",
              "      buttonEl.onclick = () => {\n",
              "        google.colab.notebook.generateWithVariable('channel_data');\n",
              "      }\n",
              "      })();\n",
              "    </script>\n",
              "  </div>\n",
              "\n",
              "    </div>\n",
              "  </div>\n"
            ],
            "application/vnd.google.colaboratory.intrinsic+json": {
              "type": "dataframe",
              "variable_name": "channel_data",
              "summary": "{\n  \"name\": \"channel_data\",\n  \"rows\": 4,\n  \"fields\": [\n    {\n      \"column\": \"Channel_name\",\n      \"properties\": {\n        \"dtype\": \"string\",\n        \"num_unique_values\": 4,\n        \"samples\": [\n          \"Tina Huang\",\n          \"techTFQ\",\n          \"Ken Jee\"\n        ],\n        \"semantic_type\": \"\",\n        \"description\": \"\"\n      }\n    },\n    {\n      \"column\": \"Subscribers\",\n      \"properties\": {\n        \"dtype\": \"string\",\n        \"num_unique_values\": 4,\n        \"samples\": [\n          \"892000\",\n          \"371000\",\n          \"271000\"\n        ],\n        \"semantic_type\": \"\",\n        \"description\": \"\"\n      }\n    },\n    {\n      \"column\": \"Views\",\n      \"properties\": {\n        \"dtype\": \"string\",\n        \"num_unique_values\": 4,\n        \"samples\": [\n          \"39372005\",\n          \"21448499\",\n          \"9438550\"\n        ],\n        \"semantic_type\": \"\",\n        \"description\": \"\"\n      }\n    },\n    {\n      \"column\": \"Total_videos\",\n      \"properties\": {\n        \"dtype\": \"string\",\n        \"num_unique_values\": 4,\n        \"samples\": [\n          \"255\",\n          \"140\",\n          \"288\"\n        ],\n        \"semantic_type\": \"\",\n        \"description\": \"\"\n      }\n    },\n    {\n      \"column\": \"playlist_id\",\n      \"properties\": {\n        \"dtype\": \"string\",\n        \"num_unique_values\": 4,\n        \"samples\": [\n          \"UU2UXDak6o7rBm23k3Vv5dww\",\n          \"UUnz-ZXXER4jOvuED5trXfEA\",\n          \"UUiT9RITQ9PW6BhXK0y2jaeg\"\n        ],\n        \"semantic_type\": \"\",\n        \"description\": \"\"\n      }\n    }\n  ]\n}"
            }
          },
          "metadata": {},
          "execution_count": 6
        }
      ],
      "source": [
        "channel_data"
      ]
    },
    {
      "cell_type": "code",
      "execution_count": null,
      "id": "dd9fafab-48c8-4a16-8d12-278a150f1c55",
      "metadata": {
        "id": "dd9fafab-48c8-4a16-8d12-278a150f1c55"
      },
      "outputs": [],
      "source": [
        "# playlist_id = channel_data.loc[channel_data['Channel_name']=='Ken Jee', 'playlist_id'].iloc[0]"
      ]
    },
    {
      "cell_type": "code",
      "source": [
        "all_playlist_ids = channel_data['playlist_id'].tolist()"
      ],
      "metadata": {
        "id": "5zu8Yycl_Fqd"
      },
      "id": "5zu8Yycl_Fqd",
      "execution_count": null,
      "outputs": []
    },
    {
      "cell_type": "code",
      "execution_count": null,
      "id": "48c481c6-84b9-4a67-b08b-7c859fc5b1a3",
      "metadata": {
        "id": "48c481c6-84b9-4a67-b08b-7c859fc5b1a3"
      },
      "outputs": [],
      "source": [
        "channel_data['Subscribers'] = pd.to_numeric(channel_data['Subscribers'])\n",
        "channel_data['Views'] = pd.to_numeric(channel_data['Views'])\n",
        "channel_data['Total_videos'] = pd.to_numeric(channel_data['Total_videos'])"
      ]
    },
    {
      "cell_type": "markdown",
      "id": "ae727731-e089-4e33-ae30-41451bbd0566",
      "metadata": {
        "id": "ae727731-e089-4e33-ae30-41451bbd0566"
      },
      "source": [
        "## Function to get video ids"
      ]
    },
    {
      "cell_type": "code",
      "execution_count": null,
      "id": "cd674b89-c341-4fd1-82c1-c03f09171da7",
      "metadata": {
        "id": "cd674b89-c341-4fd1-82c1-c03f09171da7"
      },
      "outputs": [],
      "source": [
        "def get_video_ids(youtube, playlist_id):\n",
        "\n",
        "    request = youtube.playlistItems().list(\n",
        "                part='contentDetails',\n",
        "                playlistId = playlist_id,\n",
        "                maxResults = 50)\n",
        "\n",
        "    response = request.execute()\n",
        "\n",
        "    video_ids = []\n",
        "\n",
        "    for i in range(len(response['items'])):\n",
        "        video_ids.append(response['items'][i]['contentDetails']['videoId'])\n",
        "\n",
        "    next_page_token = response.get('nextPageToken')\n",
        "    more_pages = True\n",
        "\n",
        "    while more_pages:\n",
        "        if next_page_token is None:\n",
        "            more_pages = False\n",
        "        else:\n",
        "            request = youtube.playlistItems().list(\n",
        "                part='contentDetails',\n",
        "                playlistId = playlist_id,\n",
        "                maxResults = 50,\n",
        "                pageToken = next_page_token)\n",
        "            response = request.execute()\n",
        "\n",
        "            for i in range(len(response['items'])):\n",
        "                video_ids.append(response['items'][i]['contentDetails']['videoId'])\n",
        "\n",
        "            next_page_token = response.get('nextPageToken')\n",
        "\n",
        "\n",
        "    return video_ids"
      ]
    },
    {
      "cell_type": "code",
      "source": [
        "all_video_ids = []\n",
        "\n",
        "for playlist_id in all_playlist_ids:\n",
        "    video_ids = get_video_ids(youtube, playlist_id)\n",
        "    all_video_ids.extend(video_ids)\n",
        "\n",
        "print(f\"Total video IDs collected: {len(all_video_ids)}\")"
      ],
      "metadata": {
        "colab": {
          "base_uri": "https://localhost:8080/"
        },
        "id": "OvLC1WPm2ZSu",
        "outputId": "eae91328-70e6-4021-c21e-5be03cee69e0"
      },
      "id": "OvLC1WPm2ZSu",
      "execution_count": null,
      "outputs": [
        {
          "output_type": "stream",
          "name": "stdout",
          "text": [
            "Total video IDs collected: 847\n"
          ]
        }
      ]
    },
    {
      "cell_type": "markdown",
      "id": "c758b131-cd1d-42c0-96c2-2029a992fe11",
      "metadata": {
        "id": "c758b131-cd1d-42c0-96c2-2029a992fe11"
      },
      "source": [
        "## Function to get video details"
      ]
    },
    {
      "cell_type": "code",
      "execution_count": null,
      "id": "b16bdbd0-e230-4394-aa11-e8d9e5838b00",
      "metadata": {
        "id": "b16bdbd0-e230-4394-aa11-e8d9e5838b00"
      },
      "outputs": [],
      "source": [
        "def get_video_details(youtube, video_ids):\n",
        "    all_video_stats = []\n",
        "\n",
        "    for i in range(0, len(video_ids), 50):\n",
        "        request = youtube.videos().list(\n",
        "                    part = 'snippet,statistics',\n",
        "                    id = ','.join(video_ids[i:i+50]))\n",
        "        response = request.execute()\n",
        "\n",
        "        for video in response['items']:\n",
        "            video_stats = dict(Title = video['snippet']['title'],\n",
        "                               Published_date = video['snippet']['publishedAt'],\n",
        "                               Views = video['statistics']['viewCount'],\n",
        "                               Likes = video['statistics']['likeCount'],\n",
        "                               Comments = video['statistics']['commentCount']\n",
        "                              )\n",
        "            all_video_stats.append(video_stats)\n",
        "\n",
        "    return all_video_stats"
      ]
    },
    {
      "cell_type": "code",
      "source": [
        "def collect_all_video_details(youtube, channel_data):\n",
        "  all_video_details = []\n",
        "\n",
        "  for i in range(len(channel_data)):\n",
        "      playlist_id = channel_data.loc[i, 'playlist_id']\n",
        "      channel_name = channel_data.loc[i, 'Channel_name']\n",
        "\n",
        "      video_ids = get_video_ids(youtube, playlist_id)\n",
        "      video_details = get_video_details(youtube, video_ids)\n",
        "\n",
        "      for v in video_details:\n",
        "          v['Channel_name'] = channel_name\n",
        "\n",
        "      all_video_details.extend(video_details)\n",
        "\n",
        "  return all_video_details"
      ],
      "metadata": {
        "id": "9DZ249i14zKu"
      },
      "id": "9DZ249i14zKu",
      "execution_count": null,
      "outputs": []
    },
    {
      "cell_type": "code",
      "execution_count": null,
      "id": "ca183828-14a6-4ea8-b876-94b84e0d5a33",
      "metadata": {
        "id": "ca183828-14a6-4ea8-b876-94b84e0d5a33"
      },
      "outputs": [],
      "source": [
        "all_video_details = collect_all_video_details(youtube, channel_data)"
      ]
    },
    {
      "cell_type": "code",
      "execution_count": null,
      "id": "18fd4cc9-e5ac-4d97-9e55-481419d57107",
      "metadata": {
        "id": "18fd4cc9-e5ac-4d97-9e55-481419d57107"
      },
      "outputs": [],
      "source": [
        "video_data = pd.DataFrame(all_video_details)"
      ]
    },
    {
      "cell_type": "code",
      "source": [
        "video_data.to_csv(\"youtube_video_data_cleaned.csv\", index=False)"
      ],
      "metadata": {
        "id": "WBNxaFdv-Hbe"
      },
      "id": "WBNxaFdv-Hbe",
      "execution_count": null,
      "outputs": []
    }
  ],
  "metadata": {
    "kernelspec": {
      "display_name": "Python 3 (ipykernel)",
      "language": "python",
      "name": "python3"
    },
    "language_info": {
      "codemirror_mode": {
        "name": "ipython",
        "version": 3
      },
      "file_extension": ".py",
      "mimetype": "text/x-python",
      "name": "python",
      "nbconvert_exporter": "python",
      "pygments_lexer": "ipython3",
      "version": "3.9.23"
    },
    "colab": {
      "provenance": []
    }
  },
  "nbformat": 4,
  "nbformat_minor": 5
}
