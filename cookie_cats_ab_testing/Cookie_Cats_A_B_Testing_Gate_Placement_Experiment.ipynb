{
  "nbformat": 4,
  "nbformat_minor": 0,
  "metadata": {
    "colab": {
      "provenance": []
    },
    "kernelspec": {
      "name": "python3",
      "display_name": "Python 3"
    },
    "language_info": {
      "name": "python"
    }
  },
  "cells": [
    {
      "cell_type": "markdown",
      "source": [
        "# Cookie Cats A/B Testing: Gate Placement Experiment"
      ],
      "metadata": {
        "id": "U_zGUOvlQ3wz"
      }
    },
    {
      "cell_type": "markdown",
      "source": [
        "## 1. Introduction"
      ],
      "metadata": {
        "id": "FvrsczgwHKFR"
      }
    },
    {
      "cell_type": "markdown",
      "source": [
        "**Cookie Cats** is a mobile puzzle game where players progress through levels by connecting matching tiles. This A/B test evaluates whether moving the first gate from level 30 to level 40 affects user engagement and retention.\n",
        "\n",
        "**Objective**: Determine the impact of gate placement on early user behavior.\n",
        "\n",
        "**Key Metrics:**\n",
        "  - Total game rounds played during the first 7 days (engagement)\n",
        "  - Day 1 and Day 7 retention (user retention)"
      ],
      "metadata": {
        "id": "VJ8ygANJQvkk"
      }
    },
    {
      "cell_type": "code",
      "execution_count": 71,
      "metadata": {
        "id": "UnM4kO2yaV6e",
        "colab": {
          "base_uri": "https://localhost:8080/",
          "height": 0
        },
        "outputId": "01da0a03-9b02-4f56-c148-66fbb2d56cea"
      },
      "outputs": [
        {
          "output_type": "stream",
          "name": "stdout",
          "text": [
            "Drive already mounted at /content/drive; to attempt to forcibly remount, call drive.mount(\"/content/drive\", force_remount=True).\n"
          ]
        }
      ],
      "source": [
        "from google.colab import drive\n",
        "drive.mount('/content/drive')"
      ]
    },
    {
      "cell_type": "code",
      "source": [
        "# Basic Libraries\n",
        "import numpy as np\n",
        "import pandas as pd\n",
        "import matplotlib.pyplot as plt\n",
        "import seaborn as sns\n",
        "\n",
        "# Statistical Testing\n",
        "from scipy.stats import shapiro, levene, mannwhitneyu, chi2_contingency\n",
        "from statsmodels.stats.proportion import proportion_confint\n",
        "\n",
        "# Warnings\n",
        "import warnings\n",
        "warnings.filterwarnings(\"ignore\")\n",
        "\n",
        "# Settings\n",
        "pd.set_option('display.max_columns', None)\n",
        "pd.options.display.float_format = '{:.4f}'.format\n",
        "\n",
        "# For reproducibility\n",
        "np.random.seed(42)"
      ],
      "metadata": {
        "id": "Z1LGYhLz0qtF"
      },
      "execution_count": 72,
      "outputs": []
    },
    {
      "cell_type": "markdown",
      "source": [
        "## 2. Data Overview"
      ],
      "metadata": {
        "id": "Ryaa2GiB00w0"
      }
    },
    {
      "cell_type": "code",
      "source": [
        "# Load the dataset\n",
        "df = pd.read_csv('/content/drive/MyDrive/portfolio/ab testing/cookie_cats.csv')"
      ],
      "metadata": {
        "id": "PxsQo6qg1R_b"
      },
      "execution_count": 73,
      "outputs": []
    },
    {
      "cell_type": "code",
      "source": [
        "# Dataset structure\n",
        "print('# Dataset Summary')\n",
        "print(\"# Dimensions\")\n",
        "print(f\"Observations: {df.shape[0]} | Features: {df.shape[1]}\\n\")\n",
        "\n",
        "print(\"# Data Types\")\n",
        "print(df.dtypes, \"\\n\")\n",
        "\n",
        "print(\"# Missing Values\")\n",
        "print(df.isnull().sum(), \"\\n\")\n",
        "print('# Duplicates')\n",
        "print(f'Duplicate rows: {df.duplicated().sum()}')"
      ],
      "metadata": {
        "colab": {
          "base_uri": "https://localhost:8080/",
          "height": 0
        },
        "id": "eS_WkZMD1m4n",
        "outputId": "13c4a954-aba6-41ad-cbec-90cfa22c417d"
      },
      "execution_count": 74,
      "outputs": [
        {
          "output_type": "stream",
          "name": "stdout",
          "text": [
            "# Dataset Summary\n",
            "# Dimensions\n",
            "Observations: 90189 | Features: 5\n",
            "\n",
            "# Data Types\n",
            "userid             int64\n",
            "version           object\n",
            "sum_gamerounds     int64\n",
            "retention_1         bool\n",
            "retention_7         bool\n",
            "dtype: object \n",
            "\n",
            "# Missing Values\n",
            "userid            0\n",
            "version           0\n",
            "sum_gamerounds    0\n",
            "retention_1       0\n",
            "retention_7       0\n",
            "dtype: int64 \n",
            "\n",
            "# Duplicates\n",
            "Duplicate rows: 0\n"
          ]
        }
      ]
    },
    {
      "cell_type": "code",
      "source": [
        "display(df.head())"
      ],
      "metadata": {
        "colab": {
          "base_uri": "https://localhost:8080/",
          "height": 206
        },
        "id": "a5Cvi2W9docF",
        "outputId": "dd90faec-b7da-4a2f-ff08-bd0220b7ba25"
      },
      "execution_count": 75,
      "outputs": [
        {
          "output_type": "display_data",
          "data": {
            "text/plain": [
              "   userid  version  sum_gamerounds  retention_1  retention_7\n",
              "0     116  gate_30               3        False        False\n",
              "1     337  gate_30              38         True        False\n",
              "2     377  gate_40             165         True        False\n",
              "3     483  gate_40               1        False        False\n",
              "4     488  gate_40             179         True         True"
            ],
            "text/html": [
              "\n",
              "  <div id=\"df-5b1940d8-48f6-44bd-a11b-8b030d0dad4d\" class=\"colab-df-container\">\n",
              "    <div>\n",
              "<style scoped>\n",
              "    .dataframe tbody tr th:only-of-type {\n",
              "        vertical-align: middle;\n",
              "    }\n",
              "\n",
              "    .dataframe tbody tr th {\n",
              "        vertical-align: top;\n",
              "    }\n",
              "\n",
              "    .dataframe thead th {\n",
              "        text-align: right;\n",
              "    }\n",
              "</style>\n",
              "<table border=\"1\" class=\"dataframe\">\n",
              "  <thead>\n",
              "    <tr style=\"text-align: right;\">\n",
              "      <th></th>\n",
              "      <th>userid</th>\n",
              "      <th>version</th>\n",
              "      <th>sum_gamerounds</th>\n",
              "      <th>retention_1</th>\n",
              "      <th>retention_7</th>\n",
              "    </tr>\n",
              "  </thead>\n",
              "  <tbody>\n",
              "    <tr>\n",
              "      <th>0</th>\n",
              "      <td>116</td>\n",
              "      <td>gate_30</td>\n",
              "      <td>3</td>\n",
              "      <td>False</td>\n",
              "      <td>False</td>\n",
              "    </tr>\n",
              "    <tr>\n",
              "      <th>1</th>\n",
              "      <td>337</td>\n",
              "      <td>gate_30</td>\n",
              "      <td>38</td>\n",
              "      <td>True</td>\n",
              "      <td>False</td>\n",
              "    </tr>\n",
              "    <tr>\n",
              "      <th>2</th>\n",
              "      <td>377</td>\n",
              "      <td>gate_40</td>\n",
              "      <td>165</td>\n",
              "      <td>True</td>\n",
              "      <td>False</td>\n",
              "    </tr>\n",
              "    <tr>\n",
              "      <th>3</th>\n",
              "      <td>483</td>\n",
              "      <td>gate_40</td>\n",
              "      <td>1</td>\n",
              "      <td>False</td>\n",
              "      <td>False</td>\n",
              "    </tr>\n",
              "    <tr>\n",
              "      <th>4</th>\n",
              "      <td>488</td>\n",
              "      <td>gate_40</td>\n",
              "      <td>179</td>\n",
              "      <td>True</td>\n",
              "      <td>True</td>\n",
              "    </tr>\n",
              "  </tbody>\n",
              "</table>\n",
              "</div>\n",
              "    <div class=\"colab-df-buttons\">\n",
              "\n",
              "  <div class=\"colab-df-container\">\n",
              "    <button class=\"colab-df-convert\" onclick=\"convertToInteractive('df-5b1940d8-48f6-44bd-a11b-8b030d0dad4d')\"\n",
              "            title=\"Convert this dataframe to an interactive table.\"\n",
              "            style=\"display:none;\">\n",
              "\n",
              "  <svg xmlns=\"http://www.w3.org/2000/svg\" height=\"24px\" viewBox=\"0 -960 960 960\">\n",
              "    <path d=\"M120-120v-720h720v720H120Zm60-500h600v-160H180v160Zm220 220h160v-160H400v160Zm0 220h160v-160H400v160ZM180-400h160v-160H180v160Zm440 0h160v-160H620v160ZM180-180h160v-160H180v160Zm440 0h160v-160H620v160Z\"/>\n",
              "  </svg>\n",
              "    </button>\n",
              "\n",
              "  <style>\n",
              "    .colab-df-container {\n",
              "      display:flex;\n",
              "      gap: 12px;\n",
              "    }\n",
              "\n",
              "    .colab-df-convert {\n",
              "      background-color: #E8F0FE;\n",
              "      border: none;\n",
              "      border-radius: 50%;\n",
              "      cursor: pointer;\n",
              "      display: none;\n",
              "      fill: #1967D2;\n",
              "      height: 32px;\n",
              "      padding: 0 0 0 0;\n",
              "      width: 32px;\n",
              "    }\n",
              "\n",
              "    .colab-df-convert:hover {\n",
              "      background-color: #E2EBFA;\n",
              "      box-shadow: 0px 1px 2px rgba(60, 64, 67, 0.3), 0px 1px 3px 1px rgba(60, 64, 67, 0.15);\n",
              "      fill: #174EA6;\n",
              "    }\n",
              "\n",
              "    .colab-df-buttons div {\n",
              "      margin-bottom: 4px;\n",
              "    }\n",
              "\n",
              "    [theme=dark] .colab-df-convert {\n",
              "      background-color: #3B4455;\n",
              "      fill: #D2E3FC;\n",
              "    }\n",
              "\n",
              "    [theme=dark] .colab-df-convert:hover {\n",
              "      background-color: #434B5C;\n",
              "      box-shadow: 0px 1px 3px 1px rgba(0, 0, 0, 0.15);\n",
              "      filter: drop-shadow(0px 1px 2px rgba(0, 0, 0, 0.3));\n",
              "      fill: #FFFFFF;\n",
              "    }\n",
              "  </style>\n",
              "\n",
              "    <script>\n",
              "      const buttonEl =\n",
              "        document.querySelector('#df-5b1940d8-48f6-44bd-a11b-8b030d0dad4d button.colab-df-convert');\n",
              "      buttonEl.style.display =\n",
              "        google.colab.kernel.accessAllowed ? 'block' : 'none';\n",
              "\n",
              "      async function convertToInteractive(key) {\n",
              "        const element = document.querySelector('#df-5b1940d8-48f6-44bd-a11b-8b030d0dad4d');\n",
              "        const dataTable =\n",
              "          await google.colab.kernel.invokeFunction('convertToInteractive',\n",
              "                                                    [key], {});\n",
              "        if (!dataTable) return;\n",
              "\n",
              "        const docLinkHtml = 'Like what you see? Visit the ' +\n",
              "          '<a target=\"_blank\" href=https://colab.research.google.com/notebooks/data_table.ipynb>data table notebook</a>'\n",
              "          + ' to learn more about interactive tables.';\n",
              "        element.innerHTML = '';\n",
              "        dataTable['output_type'] = 'display_data';\n",
              "        await google.colab.output.renderOutput(dataTable, element);\n",
              "        const docLink = document.createElement('div');\n",
              "        docLink.innerHTML = docLinkHtml;\n",
              "        element.appendChild(docLink);\n",
              "      }\n",
              "    </script>\n",
              "  </div>\n",
              "\n",
              "\n",
              "    <div id=\"df-7253d7bb-e730-4dce-b2ef-1fee5422280f\">\n",
              "      <button class=\"colab-df-quickchart\" onclick=\"quickchart('df-7253d7bb-e730-4dce-b2ef-1fee5422280f')\"\n",
              "                title=\"Suggest charts\"\n",
              "                style=\"display:none;\">\n",
              "\n",
              "<svg xmlns=\"http://www.w3.org/2000/svg\" height=\"24px\"viewBox=\"0 0 24 24\"\n",
              "     width=\"24px\">\n",
              "    <g>\n",
              "        <path d=\"M19 3H5c-1.1 0-2 .9-2 2v14c0 1.1.9 2 2 2h14c1.1 0 2-.9 2-2V5c0-1.1-.9-2-2-2zM9 17H7v-7h2v7zm4 0h-2V7h2v10zm4 0h-2v-4h2v4z\"/>\n",
              "    </g>\n",
              "</svg>\n",
              "      </button>\n",
              "\n",
              "<style>\n",
              "  .colab-df-quickchart {\n",
              "      --bg-color: #E8F0FE;\n",
              "      --fill-color: #1967D2;\n",
              "      --hover-bg-color: #E2EBFA;\n",
              "      --hover-fill-color: #174EA6;\n",
              "      --disabled-fill-color: #AAA;\n",
              "      --disabled-bg-color: #DDD;\n",
              "  }\n",
              "\n",
              "  [theme=dark] .colab-df-quickchart {\n",
              "      --bg-color: #3B4455;\n",
              "      --fill-color: #D2E3FC;\n",
              "      --hover-bg-color: #434B5C;\n",
              "      --hover-fill-color: #FFFFFF;\n",
              "      --disabled-bg-color: #3B4455;\n",
              "      --disabled-fill-color: #666;\n",
              "  }\n",
              "\n",
              "  .colab-df-quickchart {\n",
              "    background-color: var(--bg-color);\n",
              "    border: none;\n",
              "    border-radius: 50%;\n",
              "    cursor: pointer;\n",
              "    display: none;\n",
              "    fill: var(--fill-color);\n",
              "    height: 32px;\n",
              "    padding: 0;\n",
              "    width: 32px;\n",
              "  }\n",
              "\n",
              "  .colab-df-quickchart:hover {\n",
              "    background-color: var(--hover-bg-color);\n",
              "    box-shadow: 0 1px 2px rgba(60, 64, 67, 0.3), 0 1px 3px 1px rgba(60, 64, 67, 0.15);\n",
              "    fill: var(--button-hover-fill-color);\n",
              "  }\n",
              "\n",
              "  .colab-df-quickchart-complete:disabled,\n",
              "  .colab-df-quickchart-complete:disabled:hover {\n",
              "    background-color: var(--disabled-bg-color);\n",
              "    fill: var(--disabled-fill-color);\n",
              "    box-shadow: none;\n",
              "  }\n",
              "\n",
              "  .colab-df-spinner {\n",
              "    border: 2px solid var(--fill-color);\n",
              "    border-color: transparent;\n",
              "    border-bottom-color: var(--fill-color);\n",
              "    animation:\n",
              "      spin 1s steps(1) infinite;\n",
              "  }\n",
              "\n",
              "  @keyframes spin {\n",
              "    0% {\n",
              "      border-color: transparent;\n",
              "      border-bottom-color: var(--fill-color);\n",
              "      border-left-color: var(--fill-color);\n",
              "    }\n",
              "    20% {\n",
              "      border-color: transparent;\n",
              "      border-left-color: var(--fill-color);\n",
              "      border-top-color: var(--fill-color);\n",
              "    }\n",
              "    30% {\n",
              "      border-color: transparent;\n",
              "      border-left-color: var(--fill-color);\n",
              "      border-top-color: var(--fill-color);\n",
              "      border-right-color: var(--fill-color);\n",
              "    }\n",
              "    40% {\n",
              "      border-color: transparent;\n",
              "      border-right-color: var(--fill-color);\n",
              "      border-top-color: var(--fill-color);\n",
              "    }\n",
              "    60% {\n",
              "      border-color: transparent;\n",
              "      border-right-color: var(--fill-color);\n",
              "    }\n",
              "    80% {\n",
              "      border-color: transparent;\n",
              "      border-right-color: var(--fill-color);\n",
              "      border-bottom-color: var(--fill-color);\n",
              "    }\n",
              "    90% {\n",
              "      border-color: transparent;\n",
              "      border-bottom-color: var(--fill-color);\n",
              "    }\n",
              "  }\n",
              "</style>\n",
              "\n",
              "      <script>\n",
              "        async function quickchart(key) {\n",
              "          const quickchartButtonEl =\n",
              "            document.querySelector('#' + key + ' button');\n",
              "          quickchartButtonEl.disabled = true;  // To prevent multiple clicks.\n",
              "          quickchartButtonEl.classList.add('colab-df-spinner');\n",
              "          try {\n",
              "            const charts = await google.colab.kernel.invokeFunction(\n",
              "                'suggestCharts', [key], {});\n",
              "          } catch (error) {\n",
              "            console.error('Error during call to suggestCharts:', error);\n",
              "          }\n",
              "          quickchartButtonEl.classList.remove('colab-df-spinner');\n",
              "          quickchartButtonEl.classList.add('colab-df-quickchart-complete');\n",
              "        }\n",
              "        (() => {\n",
              "          let quickchartButtonEl =\n",
              "            document.querySelector('#df-7253d7bb-e730-4dce-b2ef-1fee5422280f button');\n",
              "          quickchartButtonEl.style.display =\n",
              "            google.colab.kernel.accessAllowed ? 'block' : 'none';\n",
              "        })();\n",
              "      </script>\n",
              "    </div>\n",
              "\n",
              "    </div>\n",
              "  </div>\n"
            ],
            "application/vnd.google.colaboratory.intrinsic+json": {
              "type": "dataframe",
              "summary": "{\n  \"name\": \"display(df\",\n  \"rows\": 5,\n  \"fields\": [\n    {\n      \"column\": \"userid\",\n      \"properties\": {\n        \"dtype\": \"number\",\n        \"std\": 151,\n        \"min\": 116,\n        \"max\": 488,\n        \"num_unique_values\": 5,\n        \"samples\": [\n          337,\n          488,\n          377\n        ],\n        \"semantic_type\": \"\",\n        \"description\": \"\"\n      }\n    },\n    {\n      \"column\": \"version\",\n      \"properties\": {\n        \"dtype\": \"category\",\n        \"num_unique_values\": 2,\n        \"samples\": [\n          \"gate_40\",\n          \"gate_30\"\n        ],\n        \"semantic_type\": \"\",\n        \"description\": \"\"\n      }\n    },\n    {\n      \"column\": \"sum_gamerounds\",\n      \"properties\": {\n        \"dtype\": \"number\",\n        \"std\": 87,\n        \"min\": 1,\n        \"max\": 179,\n        \"num_unique_values\": 5,\n        \"samples\": [\n          38,\n          179\n        ],\n        \"semantic_type\": \"\",\n        \"description\": \"\"\n      }\n    },\n    {\n      \"column\": \"retention_1\",\n      \"properties\": {\n        \"dtype\": \"boolean\",\n        \"num_unique_values\": 2,\n        \"samples\": [\n          true,\n          false\n        ],\n        \"semantic_type\": \"\",\n        \"description\": \"\"\n      }\n    },\n    {\n      \"column\": \"retention_7\",\n      \"properties\": {\n        \"dtype\": \"boolean\",\n        \"num_unique_values\": 2,\n        \"samples\": [\n          true,\n          false\n        ],\n        \"semantic_type\": \"\",\n        \"description\": \"\"\n      }\n    }\n  ]\n}"
            }
          },
          "metadata": {}
        }
      ]
    },
    {
      "cell_type": "markdown",
      "source": [
        "## 3. Exploratory Data Analysis\n"
      ],
      "metadata": {
        "id": "Zvc9eUbEGH0G"
      }
    },
    {
      "cell_type": "markdown",
      "source": [
        "### 3.1 Game Rounds Distribution & Outlier Handling"
      ],
      "metadata": {
        "id": "reRo3uzYGO4-"
      }
    },
    {
      "cell_type": "code",
      "source": [
        "# Visualize the raw distribution of sum_gamerounds\n",
        "plt.figure(figsize=(10, 5))\n",
        "sns.histplot(df['sum_gamerounds'], bins=100, kde=True)\n",
        "plt.title('Raw Game Rounds Distribution')\n",
        "plt.xlabel('Game Rounds')\n",
        "plt.ylabel('Frequency')\n",
        "plt.show()\n",
        "\n",
        "# Check the maximum value to assess feasibility\n",
        "max_rounds = df['sum_gamerounds'].max()\n",
        "print(f'Maximum game rounds: {max_rounds}')"
      ],
      "metadata": {
        "colab": {
          "base_uri": "https://localhost:8080/",
          "height": 505
        },
        "id": "ltqC0br2Y_0U",
        "outputId": "323e802d-b02a-40b5-fc02-eed0a667d937"
      },
      "execution_count": 76,
      "outputs": [
        {
          "output_type": "display_data",
          "data": {
            "text/plain": [
              "<Figure size 1000x500 with 1 Axes>"
            ],
            "image/png": "[encoded data removed]"
          },
          "metadata": {}
        },
        {
          "output_type": "stream",
          "name": "stdout",
          "text": [
            "Maximum game rounds: 49854\n"
          ]
        }
      ]
    },
    {
      "cell_type": "code",
      "source": [
        "# Adjust outlier threshold to 99th percentile\n",
        "top_99_threshold = df['sum_gamerounds'].quantile(0.99)\n",
        "outliers_99 = df[df['sum_gamerounds'] > top_99_threshold]\n",
        "print(f'Outliers in sum_gamerounds (> {top_99_threshold:.0f}) at 99th percentile')\n",
        "print(f'Number of outliers: {len(outliers_99)}')"
      ],
      "metadata": {
        "colab": {
          "base_uri": "https://localhost:8080/",
          "height": 0
        },
        "id": "ld9CW2isZnNZ",
        "outputId": "bb2016ed-b245-412e-a5fa-aeebfc8ac99c"
      },
      "execution_count": 89,
      "outputs": [
        {
          "output_type": "stream",
          "name": "stdout",
          "text": [
            "Outliers in sum_gamerounds (> 493) at 99th percentile\n",
            "Number of outliers: 898\n"
          ]
        }
      ]
    },
    {
      "cell_type": "code",
      "source": [
        "# Remove the top 1% of users (those with sum_gamerounds > 493)\n",
        "df_99_percent = df[df['sum_gamerounds'] <= top_99_threshold]"
      ],
      "metadata": {
        "id": "Tt82xH9uc1Tp"
      },
      "execution_count": 78,
      "outputs": []
    },
    {
      "cell_type": "markdown",
      "source": [
        "- The distribution of `sum_gamerounds` is heavily right-skewed.\n",
        "- Top 1% of players removed to reduce distortion."
      ],
      "metadata": {
        "id": "k8jW5MahTe7b"
      }
    },
    {
      "cell_type": "markdown",
      "source": [
        "### 3.2 Game Rounds Overview"
      ],
      "metadata": {
        "id": "6YEuuZsRG__j"
      }
    },
    {
      "cell_type": "code",
      "source": [
        "# Descriptive statistics for the filtered dataset\n",
        "print('Descriptive Statistics')\n",
        "print(df_99_percent.groupby('version')[['sum_gamerounds', 'retention_1', 'retention_7']].describe())"
      ],
      "metadata": {
        "colab": {
          "base_uri": "https://localhost:8080/",
          "height": 0
        },
        "id": "j9H4wubydaWL",
        "outputId": "f58247fb-646a-4c57-8eaf-fd424bc41cbf"
      },
      "execution_count": 79,
      "outputs": [
        {
          "output_type": "stream",
          "name": "stdout",
          "text": [
            "Descriptive Statistics\n",
            "        sum_gamerounds                                                       \n",
            "                 count    mean     std    min    25%     50%     75%      max\n",
            "version                                                                      \n",
            "gate_30     44254.0000 44.6625 72.1206 0.0000 5.0000 16.0000 48.0000 493.0000\n",
            "gate_40     45037.0000 44.3964 71.5397 0.0000 5.0000 16.0000 50.0000 493.0000\n"
          ]
        }
      ]
    },
    {
      "cell_type": "code",
      "source": [
        "# Visualize distribution by group\n",
        "plt.figure(figsize=(10, 5))\n",
        "sns.histplot(data=df_99_percent, x='sum_gamerounds', hue='version', bins=50, kde=True)\n",
        "plt.title('Distribution of Game Rounds by Group')\n",
        "plt.xlabel('Game Rounds')\n",
        "plt.ylabel('Frequency')\n",
        "plt.savefig('game_rounds_distribution_filtered.png')\n",
        "plt.show()"
      ],
      "metadata": {
        "colab": {
          "base_uri": "https://localhost:8080/",
          "height": 487
        },
        "id": "g6Rjj5SqHvSr",
        "outputId": "53f9e452-037d-4c60-b77e-3fd1e54029c9"
      },
      "execution_count": 80,
      "outputs": [
        {
          "output_type": "display_data",
          "data": {
            "text/plain": [
              "<Figure size 1000x500 with 1 Axes>"
            ],
            "image/png": "[encoded data removed]"
          },
          "metadata": {}
        }
      ]
    },
    {
      "cell_type": "markdown",
      "source": [
        "### 3.3 🔁 Retention Overview"
      ],
      "metadata": {
        "id": "oBfIsL-xH2y3"
      }
    },
    {
      "cell_type": "code",
      "source": [
        "# Descriptive statistics for retention\n",
        "print('Descriptive Statistics for Retention')\n",
        "print(df_99_percent.groupby('version')[['retention_1', 'retention_7']].mean() * 100)\n",
        "print(df_99_percent.groupby('version')[['retention_1', 'retention_7']].describe())"
      ],
      "metadata": {
        "colab": {
          "base_uri": "https://localhost:8080/",
          "height": 0
        },
        "id": "FiU95wY9fFnd",
        "outputId": "85490adf-f3ee-48b7-a823-eb65e4d348d2"
      },
      "execution_count": 81,
      "outputs": [
        {
          "output_type": "stream",
          "name": "stdout",
          "text": [
            "Descriptive Statistics for Retention\n",
            "         retention_1  retention_7\n",
            "version                          \n",
            "gate_30      44.2920      18.2537\n",
            "gate_40      43.6907      17.4190\n",
            "        retention_1                      retention_7                     \n",
            "              count unique    top   freq       count unique    top   freq\n",
            "version                                                                  \n",
            "gate_30       44254      2  False  24653       44254      2  False  36176\n",
            "gate_40       45037      2  False  25360       45037      2  False  37192\n"
          ]
        }
      ]
    },
    {
      "cell_type": "code",
      "source": [
        "# Visualization: Group by retention type\n",
        "retention_rates = df_99_percent.groupby('version')[['retention_1', 'retention_7']].mean() * 100\n",
        "retention_rates = retention_rates.reset_index().melt(id_vars='version',\n",
        "                                                    value_vars=['retention_1', 'retention_7'],\n",
        "                                                    var_name='Retention',\n",
        "                                                    value_name='Rate')"
      ],
      "metadata": {
        "id": "Wx0QryVFNfoY"
      },
      "execution_count": null,
      "outputs": []
    },
    {
      "cell_type": "code",
      "source": [
        "plt.figure(figsize=(8, 5))\n",
        "sns.barplot(data=retention_rates, x='Retention', y='Rate', hue='version')\n",
        "plt.title('Retention Rates by Group')\n",
        "plt.xlabel('Retention Period')\n",
        "plt.ylabel('Retention Rate (%)')\n",
        "plt.xticks(ticks=[0, 1], labels=['Day 1', 'Day 7'])\n",
        "plt.legend(title='Group')\n",
        "plt.show()"
      ],
      "metadata": {
        "colab": {
          "base_uri": "https://localhost:8080/",
          "height": 487
        },
        "id": "LB3b_FuyhJzT",
        "outputId": "0c3512a4-cb53-413c-d2e8-6d9c9a5fb3fa"
      },
      "execution_count": 88,
      "outputs": [
        {
          "output_type": "display_data",
          "data": {
            "text/plain": [
              "<Figure size 800x500 with 1 Axes>"
            ],
            "image/png": "[encoded data removed]"
          },
          "metadata": {}
        }
      ]
    },
    {
      "cell_type": "markdown",
      "source": [
        "- Day 1 retention is similar across groups.\n",
        "- Day 7 retention is meaningfully lower for gate_40 users.\n",
        "- Indicates potential longer-term churn caused by delayed gating."
      ],
      "metadata": {
        "id": "G7aVdwBEPFtS"
      }
    },
    {
      "cell_type": "markdown",
      "source": [
        "## 4. Statistical Testing"
      ],
      "metadata": {
        "id": "whfSRzExIHKn"
      }
    },
    {
      "cell_type": "markdown",
      "source": [
        "### 4.1 Game Rounds – Mann-Whitney U Test"
      ],
      "metadata": {
        "id": "t9yktn41ILCO"
      }
    },
    {
      "cell_type": "code",
      "source": [
        "stat, p = mannwhitneyu(df_99_percent[df_99_percent['version'] == 'gate_30']['sum_gamerounds'],\n",
        "                       df_99_percent[df_99_percent['version'] == 'gate_40']['sum_gamerounds'])\n",
        "print('Mann-Whitney U Test for sum_gamerounds')\n",
        "print(f'p-value = {p:.5f}')"
      ],
      "metadata": {
        "colab": {
          "base_uri": "https://localhost:8080/",
          "height": 0
        },
        "id": "vK-cNLSTi9ig",
        "outputId": "8265d0d8-9e86-4556-d78c-16c86798494d"
      },
      "execution_count": 83,
      "outputs": [
        {
          "output_type": "stream",
          "name": "stdout",
          "text": [
            "Mann-Whitney U Test for sum_gamerounds\n",
            "p-value = 0.04789\n"
          ]
        }
      ]
    },
    {
      "cell_type": "code",
      "source": [
        "# Optimized Cliff's Delta with sampling\n",
        "def cliffs_delta_sampled(x, y, sample_size=5000):\n",
        "    np.random.seed(42)  # For reproducibility\n",
        "    x_sample = np.random.choice(x, size=min(sample_size, len(x)), replace=False)\n",
        "    y_sample = np.random.choice(y, size=min(sample_size, len(y)), replace=False)\n",
        "    n1, n2 = len(x_sample), len(y_sample)\n",
        "    comparisons = sum(1 if xi > yj else -1 if xi < yj else 0 for xi in x_sample for yj in y_sample)\n",
        "    return comparisons / (n1 * n2)\n",
        "\n",
        "delta = cliffs_delta_sampled(df_99_percent[df_99_percent['version'] == 'gate_30']['sum_gamerounds'],\n",
        "                             df_99_percent[df_99_percent['version'] == 'gate_40']['sum_gamerounds'])\n",
        "print('Cliff\\'s Delta Effect Size for sum_gamerounds (Sampled)')\n",
        "print(f'Cliff\\'s Delta = {delta:.5f}')"
      ],
      "metadata": {
        "colab": {
          "base_uri": "https://localhost:8080/",
          "height": 0
        },
        "id": "79wn-qr1lg2X",
        "outputId": "c0807830-2528-46ed-ece8-c4b04729848d"
      },
      "execution_count": 90,
      "outputs": [
        {
          "output_type": "stream",
          "name": "stdout",
          "text": [
            "Cliff's Delta Effect Size for sum_gamerounds (Sampled)\n",
            "Cliff's Delta = 0.00561\n"
          ]
        }
      ]
    },
    {
      "cell_type": "markdown",
      "source": [
        "- Non-normal distribution of `sum_gamerounds` --> Mann-Whitney U Test\n",
        "- Result:  \n",
        "  - p-value = 0.04789 → Statistically significant\n",
        "  - Cliff’s Delta = 0.0056 → Negligible effect\n",
        "- Conclusion:\n",
        "While statistically significant, the difference in engagement is practically meaningless. Both versions perform similarly in terms of gameplay activity."
      ],
      "metadata": {
        "id": "RsHvLgmZJfWI"
      }
    },
    {
      "cell_type": "markdown",
      "source": [
        "### 4.2 Retention – Chi-Square Tests"
      ],
      "metadata": {
        "id": "x_SC_ki8JmgD"
      }
    },
    {
      "cell_type": "code",
      "source": [
        "# Chi-Square tests\n",
        "contingency_1 = pd.crosstab(df_99_percent['version'], df_99_percent['retention_1'])\n",
        "contingency_7 = pd.crosstab(df_99_percent['version'], df_99_percent['retention_7'])\n",
        "\n",
        "chi2, p_1, dof, expected = chi2_contingency(contingency_1)\n",
        "print('Chi-Square Test for Day 1 Retention')\n",
        "print(f'p-value = {p_1:.5f}')\n",
        "\n",
        "chi2, p_7, dof, expected = chi2_contingency(contingency_7)\n",
        "print('\\nChi-Square Test for Day 7 Retention')\n",
        "print(f'p-value = {p_7:.5f}')"
      ],
      "metadata": {
        "colab": {
          "base_uri": "https://localhost:8080/",
          "height": 0
        },
        "id": "qzVUIiuKE2Wz",
        "outputId": "d58f1e53-c0d2-4b67-cc3c-172e92992c3d"
      },
      "execution_count": 85,
      "outputs": [
        {
          "output_type": "stream",
          "name": "stdout",
          "text": [
            "Chi-Square Test for Day 1 Retention\n",
            "p-value = 0.07137\n",
            "\n",
            "Chi-Square Test for Day 7 Retention\n",
            "p-value = 0.00116\n"
          ]
        }
      ]
    },
    {
      "cell_type": "code",
      "source": [
        "# Retention rates and counts\n",
        "rates_7 = df_99_percent.groupby('version')['retention_7'].mean()\n",
        "counts_7 = df_99_percent.groupby('version')['retention_7'].sum()\n",
        "nobs_7 = df_99_percent.groupby('version')['retention_7'].count()\n",
        "\n",
        "# Confidence intervals for each group\n",
        "ci_low_30, ci_high_30 = proportion_confint(counts_7['gate_30'], nobs_7['gate_30'], alpha=0.05, method='wilson')\n",
        "ci_low_40, ci_high_40 = proportion_confint(counts_7['gate_40'], nobs_7['gate_40'], alpha=0.05, method='wilson')\n",
        "\n",
        "# Difference in proportions and its CI\n",
        "diff = rates_7['gate_30'] - rates_7['gate_40']\n",
        "se_diff = np.sqrt(sum(rates_7 * (1 - rates_7) / nobs_7))\n",
        "ci_diff = (diff - 1.96 * se_diff, diff + 1.96 * se_diff)\n",
        "\n",
        "print('Day 7 Retention Analysis')\n",
        "print(f'Gate_30: {rates_7[\"gate_30\"]*100:.2f}% (95% CI: {ci_low_30*100:.2f}-{ci_high_30*100:.2f})')\n",
        "print(f'Gate_40: {rates_7[\"gate_40\"]*100:.2f}% (95% CI: {ci_low_40*100:.2f}-{ci_high_40*100:.2f})')\n",
        "print(f'Difference: {diff*100:.2f}% (95% CI: {ci_diff[0]*100:.2f}-{ci_diff[1]*100:.2f})')"
      ],
      "metadata": {
        "colab": {
          "base_uri": "https://localhost:8080/",
          "height": 0
        },
        "id": "gNRRBCSVJp0Y",
        "outputId": "9a64c2f2-5154-42dd-d979-24bc7ae3f64b"
      },
      "execution_count": 86,
      "outputs": [
        {
          "output_type": "stream",
          "name": "stdout",
          "text": [
            "Day 7 Retention Analysis\n",
            "Gate_30: 18.25% (95% CI: 17.90-18.62)\n",
            "Gate_40: 17.42% (95% CI: 17.07-17.77)\n",
            "Difference: 0.83% (95% CI: 0.33-1.34)\n"
          ]
        }
      ]
    },
    {
      "cell_type": "markdown",
      "source": [
        "Day 1 Retention(p = 0.0714) → Not statistically significant\n",
        "\n",
        "Day 7 Retention(p = 0.00116) → Statistically significant difference"
      ],
      "metadata": {
        "id": "Um1cp_6cJtr_"
      }
    },
    {
      "cell_type": "markdown",
      "source": [
        "## 5. Business Impact Assessment"
      ],
      "metadata": {
        "id": "QR0zMFGt53yd"
      }
    },
    {
      "cell_type": "code",
      "source": [
        "# Estimate user impact\n",
        "total_users = len(df_99_percent)\n",
        "retained_30 = total_users * 0.1825\n",
        "retained_40 = total_users * 0.1742\n",
        "user_diff = retained_30 - retained_40\n",
        "\n",
        "print('User Impact of Day 7 Retention Difference')\n",
        "print(f'Total users: {total_users}')\n",
        "print(f'Users retained (gate_30): {retained_30:.0f}')\n",
        "print(f'Users retained (gate_40): {retained_40:.0f}')\n",
        "print(f'Fewer users retained with gate_40: {user_diff:.0f}')"
      ],
      "metadata": {
        "colab": {
          "base_uri": "https://localhost:8080/",
          "height": 0
        },
        "id": "UZOvB0wW-UDn",
        "outputId": "2b4e7db8-c36c-44f4-8fa9-4f43e96cdf12"
      },
      "execution_count": 87,
      "outputs": [
        {
          "output_type": "stream",
          "name": "stdout",
          "text": [
            "User Impact of Day 7 Retention Difference\n",
            "Total users: 89291\n",
            "Users retained (gate_30): 16296\n",
            "Users retained (gate_40): 15554\n",
            "Fewer users retained with gate_40: 741\n"
          ]
        }
      ]
    },
    {
      "cell_type": "markdown",
      "source": [
        "### Key Findings\n",
        "- **Engagement**\n",
        "\n",
        "  Statistically significant (p = 0.04789), but negligible impact (Cliff’s Delta = 0.0056)\n",
        "\n",
        "- **Retention**  \n",
        "  Day 1: No significant difference\n",
        "  \n",
        "  Day 7: Significant drop with gate_40 (Δ = 0.83%, 95% CI: 0.33–1.34%)\n",
        "\n",
        "- **Recommendation**\n",
        "\n",
        "  Keep the gate at level 30\n",
        "  Gate_40 reduces long-term retention, with a statistically significant 0.83% drop in Day 7 retention\n",
        "\n",
        "  No meaningful improvement in engagement — gameplay activity is virtually unchanged\n",
        "  \n",
        "  Business impact is negative, with fewer retained users and potential LTV loss\n",
        "\n",
        "###Next Steps\n",
        "\n",
        "- **Test Intermediate Gate Levels**  \n",
        "  Explore alternative placements (e.g., level 35 or 37) to identify a better balance between engagement and retention.\n",
        "\n",
        "- **Measure Monetization Impact**  \n",
        "  Track in-app purchase conversion and ARPU by gate level to assess true revenue implications beyond retention.\n",
        "\n",
        "- **Segment-Level Analysis**  \n",
        "  Evaluate retention and gameplay across user cohorts (e.g., country, device, install date) to identify groups that may benefit from gate_40.\n",
        "\n",
        "- **Validate Experiment Design**  \n",
        "  Check for sample balance and traffic integrity (randomization, SRM) to ensure test reliability.\n",
        "\n",
        "- **Collect User Feedback**  \n",
        "  Use in-app prompts or surveys to understand player experience and friction around gate timing."
      ],
      "metadata": {
        "id": "qr_LcTxaWSFs"
      }
    }
  ]
}